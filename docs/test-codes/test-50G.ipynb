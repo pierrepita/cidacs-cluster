{
 "cells": [
  {
   "cell_type": "code",
   "execution_count": 1,
   "metadata": {},
   "outputs": [],
   "source": [
    "import time"
   ]
  },
  {
   "cell_type": "code",
   "execution_count": 2,
   "metadata": {},
   "outputs": [],
   "source": [
    "start = time.time()"
   ]
  },
  {
   "cell_type": "code",
   "execution_count": 3,
   "metadata": {},
   "outputs": [],
   "source": [
    "df = spark.read.load(\"hdfs://node1:9000/db_50G.csv\",\n",
    "                     format=\"csv\", sep=\",\", inferSchema=\"true\", header=\"true\")"
   ]
  },
  {
   "cell_type": "code",
   "execution_count": 4,
   "metadata": {},
   "outputs": [
    {
     "data": {
      "text/plain": [
       "['MSN', 'StateCode', 'Year', 'Data']"
      ]
     },
     "execution_count": 4,
     "metadata": {},
     "output_type": "execute_result"
    }
   ],
   "source": [
    "df.columns"
   ]
  },
  {
   "cell_type": "code",
   "execution_count": 5,
   "metadata": {},
   "outputs": [
    {
     "name": "stdout",
     "output_type": "stream",
     "text": [
      "+-----+-------+\n",
      "|  MSN|  count|\n",
      "+-----+-------+\n",
      "|AVTXP|3460600|\n",
      "|KSCCD|2768480|\n",
      "|NGMPP|3460600|\n",
      "|ESCCP|3460600|\n",
      "|LGTCD|2768480|\n",
      "|ESTXV|2768480|\n",
      "|P1ICD|2768480|\n",
      "|ELEXP|3460600|\n",
      "|WDRCP|3460600|\n",
      "|MGACB|3460600|\n",
      "|NGICP|3460600|\n",
      "|TNACB|3460600|\n",
      "|SOHCB|3460600|\n",
      "|TNTXB|3460600|\n",
      "|PAACD|2768480|\n",
      "|CLOCB|3460600|\n",
      "|CLTXB|3460600|\n",
      "|ESRCB|3460600|\n",
      "|HYCCB|3460600|\n",
      "|CLOCV|2768480|\n",
      "+-----+-------+\n",
      "only showing top 20 rows\n",
      "\n",
      "+---------+--------+\n",
      "|StateCode|   count|\n",
      "+---------+--------+\n",
      "|       AZ|35186316|\n",
      "|       SC|35186316|\n",
      "|       LA|35186316|\n",
      "|       MN|35186316|\n",
      "|       NJ|35186316|\n",
      "|       DC|35186316|\n",
      "|       OR|35186316|\n",
      "|       VA|35186316|\n",
      "|       RI|35186316|\n",
      "|       KY|35186316|\n",
      "|       WY|35186316|\n",
      "|       NH|35186316|\n",
      "|       MI|35186316|\n",
      "|       NV|35186316|\n",
      "|       WI|35186316|\n",
      "|       ID|35186316|\n",
      "|       CA|35186316|\n",
      "|       NE|35186316|\n",
      "|       CT|35186316|\n",
      "|       MT|35186316|\n",
      "+---------+--------+\n",
      "only showing top 20 rows\n",
      "\n",
      "+----+--------+\n",
      "|Year|   count|\n",
      "+----+--------+\n",
      "|1990|40382540|\n",
      "|1975|39898056|\n",
      "|1977|40036480|\n",
      "|2003|40382540|\n",
      "|2007|40382540|\n",
      "|1974|39898056|\n",
      "|2006|40382540|\n",
      "|1978|40036480|\n",
      "|1961|22034705|\n",
      "|1988|40382540|\n",
      "|1997|40382540|\n",
      "|1994|40382540|\n",
      "|1968|22034705|\n",
      "|1973|39898056|\n",
      "|1979|40036480|\n",
      "|1971|39898056|\n",
      "|1966|22034705|\n",
      "|2004|40382540|\n",
      "|1991|40382540|\n",
      "|1967|22034705|\n",
      "+----+--------+\n",
      "only showing top 20 rows\n",
      "\n",
      "+-------------+-----+\n",
      "|         Data|count|\n",
      "+-------------+-----+\n",
      "| 210227.03774| 1331|\n",
      "| 173993.85025| 1331|\n",
      "|1834813.41911| 1331|\n",
      "| 706786.39613| 1331|\n",
      "| 585525.20705| 1331|\n",
      "| 508922.46659| 1331|\n",
      "|  95852.17296| 1331|\n",
      "|  94781.06517| 1331|\n",
      "| 175973.48371| 1331|\n",
      "| 219311.90072| 1331|\n",
      "| 250483.19866| 1331|\n",
      "| 703161.57762| 1331|\n",
      "|2947999.93058| 1331|\n",
      "| 355984.74295| 1331|\n",
      "|1039993.61725| 1331|\n",
      "|1738231.60363| 1331|\n",
      "| 875301.48703| 1331|\n",
      "|1020392.29449| 1331|\n",
      "|1099524.97277| 1331|\n",
      "| 274001.73484| 1331|\n",
      "+-------------+-----+\n",
      "only showing top 20 rows\n",
      "\n"
     ]
    }
   ],
   "source": [
    "for c in df.columns:\n",
    "    df.groupBy(c).count().show()"
   ]
  },
  {
   "cell_type": "code",
   "execution_count": 6,
   "metadata": {},
   "outputs": [
    {
     "name": "stdout",
     "output_type": "stream",
     "text": [
      "elapsed 1714.3713977336884 seconds\n"
     ]
    }
   ],
   "source": [
    "end = time.time()\n",
    "print(f'elapsed {end - start} seconds')"
   ]
  }
 ],
 "metadata": {
  "kernelspec": {
   "display_name": "PySpark (Spark 2.4)",
   "language": "python",
   "name": "pyspark"
  },
  "language_info": {
   "codemirror_mode": {
    "name": "ipython",
    "version": 3
   },
   "file_extension": ".py",
   "mimetype": "text/x-python",
   "name": "python",
   "nbconvert_exporter": "python",
   "pygments_lexer": "ipython3",
   "version": "3.7.2"
  }
 },
 "nbformat": 4,
 "nbformat_minor": 2
}
