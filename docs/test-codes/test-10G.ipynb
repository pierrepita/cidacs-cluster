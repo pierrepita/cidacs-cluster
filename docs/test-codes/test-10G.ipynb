{
 "cells": [
  {
   "cell_type": "code",
   "execution_count": 1,
   "metadata": {},
   "outputs": [],
   "source": [
    "import time"
   ]
  },
  {
   "cell_type": "code",
   "execution_count": 2,
   "metadata": {},
   "outputs": [],
   "source": [
    "start = time.time()"
   ]
  },
  {
   "cell_type": "code",
   "execution_count": 3,
   "metadata": {},
   "outputs": [],
   "source": [
    "df = spark.read.load(\"hdfs://node1:9000/db_10G.csv\",\n",
    "                     format=\"csv\", sep=\",\", inferSchema=\"true\", header=\"true\")"
   ]
  },
  {
   "cell_type": "code",
   "execution_count": 4,
   "metadata": {},
   "outputs": [
    {
     "data": {
      "text/plain": [
       "['MSN', 'StateCode', 'Year', 'Data']"
      ]
     },
     "execution_count": 4,
     "metadata": {},
     "output_type": "execute_result"
    }
   ],
   "source": [
    "df.columns"
   ]
  },
  {
   "cell_type": "code",
   "execution_count": 5,
   "metadata": {},
   "outputs": [
    {
     "name": "stdout",
     "output_type": "stream",
     "text": [
      "+-----+------+\n",
      "|  MSN| count|\n",
      "+-----+------+\n",
      "|AVTXP|694200|\n",
      "|KSCCD|555360|\n",
      "|NGMPP|694200|\n",
      "|LGTCD|555360|\n",
      "|ESCCP|694200|\n",
      "|ESTXV|555360|\n",
      "|P1ICD|555360|\n",
      "|ELEXP|694200|\n",
      "|WDRCP|694200|\n",
      "|MGACB|694200|\n",
      "|NGICP|694200|\n",
      "|TNACB|694200|\n",
      "|SOHCB|694200|\n",
      "|TNTXB|694200|\n",
      "|HYCCB|694200|\n",
      "|PAACD|555360|\n",
      "|CLOCB|694200|\n",
      "|CLTXB|694200|\n",
      "|ESRCB|694200|\n",
      "|CLOCV|555360|\n",
      "+-----+------+\n",
      "only showing top 20 rows\n",
      "\n",
      "+---------+-------+\n",
      "|StateCode|  count|\n",
      "+---------+-------+\n",
      "|       AZ|7058412|\n",
      "|       SC|7058412|\n",
      "|       LA|7058412|\n",
      "|       MN|7058412|\n",
      "|       NJ|7058412|\n",
      "|       DC|7058412|\n",
      "|       OR|7058412|\n",
      "|       VA|7058412|\n",
      "|       RI|7058412|\n",
      "|       WY|7058412|\n",
      "|       KY|7058412|\n",
      "|       NH|7058412|\n",
      "|       MI|7058412|\n",
      "|       NV|7058412|\n",
      "|       WI|7058412|\n",
      "|       ID|7058412|\n",
      "|       CA|7058412|\n",
      "|       CT|7058412|\n",
      "|       NE|7058412|\n",
      "|       MT|7058412|\n",
      "+---------+-------+\n",
      "only showing top 20 rows\n",
      "\n",
      "+----+-------+\n",
      "|Year|  count|\n",
      "+----+-------+\n",
      "|1990|8100780|\n",
      "|1975|8003592|\n",
      "|1977|8031360|\n",
      "|2003|8100780|\n",
      "|2007|8100780|\n",
      "|1974|8003592|\n",
      "|2006|8100780|\n",
      "|1978|8031360|\n",
      "|1961|4420185|\n",
      "|1988|8100780|\n",
      "|1997|8100780|\n",
      "|1994|8100780|\n",
      "|1968|4420185|\n",
      "|1973|8003592|\n",
      "|1979|8031360|\n",
      "|1971|8003592|\n",
      "|1966|4420185|\n",
      "|2004|8100780|\n",
      "|1991|8100780|\n",
      "|1967|4420185|\n",
      "+----+-------+\n",
      "only showing top 20 rows\n",
      "\n",
      "+------------+-----+\n",
      "|        Data|count|\n",
      "+------------+-----+\n",
      "|  3892.64107|  267|\n",
      "| 52259.37286|  534|\n",
      "|  4550.61354|  267|\n",
      "|  59713.5643|  534|\n",
      "| 14521.24366|  534|\n",
      "| 15244.19896|  534|\n",
      "| 62289.47021|  534|\n",
      "|167503.50852|  267|\n",
      "| 65234.21545|  534|\n",
      "| 51317.08914|  534|\n",
      "|  2382.01133|  534|\n",
      "|  5263.53822|  267|\n",
      "| 28237.92883|  534|\n",
      "|  23886.4799|  267|\n",
      "|   565.91052|  534|\n",
      "| 51653.14173|  267|\n",
      "| 14600.16851|  267|\n",
      "|134977.64423|  534|\n",
      "|165190.44786|  267|\n",
      "| 35044.89716|  801|\n",
      "+------------+-----+\n",
      "only showing top 20 rows\n",
      "\n"
     ]
    }
   ],
   "source": [
    "for c in df.columns:\n",
    "    df.groupBy(c).count().show()"
   ]
  },
  {
   "cell_type": "code",
   "execution_count": 6,
   "metadata": {},
   "outputs": [
    {
     "name": "stdout",
     "output_type": "stream",
     "text": [
      "elapsed 384.40448904037476 seconds\n"
     ]
    }
   ],
   "source": [
    "end = time.time()\n",
    "print(f'elapsed {end - start} seconds')"
   ]
  }
 ],
 "metadata": {
  "kernelspec": {
   "display_name": "PySpark (Spark 2.4)",
   "language": "python",
   "name": "pyspark"
  },
  "language_info": {
   "codemirror_mode": {
    "name": "ipython",
    "version": 3
   },
   "file_extension": ".py",
   "mimetype": "text/x-python",
   "name": "python",
   "nbconvert_exporter": "python",
   "pygments_lexer": "ipython3",
   "version": "3.7.2"
  }
 },
 "nbformat": 4,
 "nbformat_minor": 2
}
