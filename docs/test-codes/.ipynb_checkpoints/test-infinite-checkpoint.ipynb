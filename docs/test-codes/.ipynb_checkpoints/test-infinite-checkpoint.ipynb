{
 "cells": [
  {
   "cell_type": "code",
   "execution_count": 1,
   "metadata": {},
   "outputs": [
    {
     "data": {
      "text/html": [
       "\n",
       "        <div>\n",
       "            <p><b>SparkContext</b></p>\n",
       "\n",
       "            <p><a href=\"http://node1:4041\">Spark UI</a></p>\n",
       "\n",
       "            <dl>\n",
       "              <dt>Version</dt>\n",
       "                <dd><code>v2.4.0</code></dd>\n",
       "              <dt>Master</dt>\n",
       "                <dd><code>spark://node1:7077</code></dd>\n",
       "              <dt>AppName</dt>\n",
       "                <dd><code>pyspark-shell</code></dd>\n",
       "            </dl>\n",
       "        </div>\n",
       "        "
      ],
      "text/plain": [
       "<SparkContext master=spark://node1:7077 appName=pyspark-shell>"
      ]
     },
     "execution_count": 1,
     "metadata": {},
     "output_type": "execute_result"
    }
   ],
   "source": [
    "sc"
   ]
  },
  {
   "cell_type": "code",
   "execution_count": 2,
   "metadata": {},
   "outputs": [],
   "source": [
    "df = spark.read.load(\"hdfs://node1:9000/db_10G.csv\",\n",
    "                     format=\"csv\", sep=\",\", inferSchema=\"true\", header=\"true\")"
   ]
  },
  {
   "cell_type": "code",
   "execution_count": 3,
   "metadata": {},
   "outputs": [
    {
     "data": {
      "text/plain": [
       "['MSN', 'StateCode', 'Year', 'Data']"
      ]
     },
     "execution_count": 3,
     "metadata": {},
     "output_type": "execute_result"
    }
   ],
   "source": [
    "df.columns"
   ]
  },
  {
   "cell_type": "code",
   "execution_count": 5,
   "metadata": {},
   "outputs": [
    {
     "name": "stdout",
     "output_type": "stream",
     "text": [
      "+-----+------+\n",
      "|  MSN| count|\n",
      "+-----+------+\n",
      "|AVTXP|694200|\n",
      "|KSCCD|555360|\n",
      "|NGMPP|694200|\n",
      "|LGTCD|555360|\n",
      "|ESCCP|694200|\n",
      "|P1ICD|555360|\n",
      "|ESTXV|555360|\n",
      "|ELEXP|694200|\n",
      "|MGACB|694200|\n",
      "|NGICP|694200|\n",
      "|TNACB|694200|\n",
      "|WDRCP|694200|\n",
      "|SOHCB|694200|\n",
      "|TNTXB|694200|\n",
      "|CLOCB|694200|\n",
      "|CLTXB|694200|\n",
      "|ESRCB|694200|\n",
      "|HYCCB|694200|\n",
      "|PAACD|555360|\n",
      "|CLOCV|555360|\n",
      "+-----+------+\n",
      "only showing top 20 rows\n",
      "\n",
      "+---------+-------+\n",
      "|StateCode|  count|\n",
      "+---------+-------+\n",
      "|       SC|7058412|\n",
      "|       AZ|7058412|\n",
      "|       LA|7058412|\n",
      "|       MN|7058412|\n",
      "|       NJ|7058412|\n",
      "|       DC|7058412|\n",
      "|       OR|7058412|\n",
      "|       VA|7058412|\n",
      "|       RI|7058412|\n",
      "|       KY|7058412|\n",
      "|       WY|7058412|\n",
      "|       NH|7058412|\n",
      "|       MI|7058412|\n",
      "|       NV|7058412|\n",
      "|       WI|7058412|\n",
      "|       ID|7058412|\n",
      "|       CA|7058412|\n",
      "|       CT|7058412|\n",
      "|       NE|7058412|\n",
      "|       MT|7058412|\n",
      "+---------+-------+\n",
      "only showing top 20 rows\n",
      "\n",
      "+----+-------+\n",
      "|Year|  count|\n",
      "+----+-------+\n",
      "|1990|8100780|\n",
      "|1975|8003592|\n",
      "|1977|8031360|\n",
      "|2003|8100780|\n",
      "|2007|8100780|\n",
      "|1974|8003592|\n",
      "|2006|8100780|\n",
      "|1978|8031360|\n",
      "|1961|4420185|\n",
      "|1988|8100780|\n",
      "|1997|8100780|\n",
      "|1994|8100780|\n",
      "|1968|4420185|\n",
      "|1973|8003592|\n",
      "|1979|8031360|\n",
      "|1971|8003592|\n",
      "|1966|4420185|\n",
      "|2004|8100780|\n",
      "|1991|8100780|\n",
      "|1967|4420185|\n",
      "+----+-------+\n",
      "only showing top 20 rows\n",
      "\n",
      "+-----------+-----+\n",
      "|       Data|count|\n",
      "+-----------+-----+\n",
      "|  304.33438|  267|\n",
      "|    5.61731|  534|\n",
      "|    0.16187|  534|\n",
      "|   -1.84507|  267|\n",
      "|    0.48543|  267|\n",
      "|14807.23422|  801|\n",
      "| 3560.28036|  801|\n",
      "|49484.42293|  801|\n",
      "|18863.28715|  801|\n",
      "|17349.40181|  801|\n",
      "| 1679.52362|  801|\n",
      "|41210.88468|  801|\n",
      "|33880.44513|  801|\n",
      "|13981.42039|  801|\n",
      "|10425.25806|  801|\n",
      "|    2.57449|  801|\n",
      "|    5.66062|  801|\n",
      "|    5.43579|  801|\n",
      "|   10.44963|  801|\n",
      "|    0.83115|  801|\n",
      "+-----------+-----+\n",
      "only showing top 20 rows\n",
      "\n"
     ]
    }
   ],
   "source": [
    "while True:\n",
    "    for c in df.columns:\n",
    "        df.groupBy(c).count().show()"
   ]
  }
 ],
 "metadata": {
  "kernelspec": {
   "display_name": "PySpark (Spark 2.4)",
   "language": "python",
   "name": "pyspark"
  },
  "language_info": {
   "codemirror_mode": {
    "name": "ipython",
    "version": 3
   },
   "file_extension": ".py",
   "mimetype": "text/x-python",
   "name": "python",
   "nbconvert_exporter": "python",
   "pygments_lexer": "ipython3",
   "version": "3.7.2"
  }
 },
 "nbformat": 4,
 "nbformat_minor": 2
}
