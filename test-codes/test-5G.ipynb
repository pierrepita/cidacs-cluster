{
 "cells": [
  {
   "cell_type": "code",
   "execution_count": 7,
   "metadata": {},
   "outputs": [],
   "source": [
    "import time"
   ]
  },
  {
   "cell_type": "code",
   "execution_count": 8,
   "metadata": {},
   "outputs": [],
   "source": [
    "start = time.time()"
   ]
  },
  {
   "cell_type": "code",
   "execution_count": 9,
   "metadata": {},
   "outputs": [],
   "source": [
    "df = spark.read.load(\"hdfs://node1:9000/db_5G.csv\",\n",
    "                     format=\"csv\", sep=\",\", inferSchema=\"true\", header=\"true\")"
   ]
  },
  {
   "cell_type": "code",
   "execution_count": 10,
   "metadata": {},
   "outputs": [
    {
     "data": {
      "text/plain": [
       "['MSN', 'StateCode', 'Year', 'Data']"
      ]
     },
     "execution_count": 10,
     "metadata": {},
     "output_type": "execute_result"
    }
   ],
   "source": [
    "df.columns"
   ]
  },
  {
   "cell_type": "code",
   "execution_count": 11,
   "metadata": {},
   "outputs": [
    {
     "name": "stdout",
     "output_type": "stream",
     "text": [
      "+-----+------+\n",
      "|  MSN| count|\n",
      "+-----+------+\n",
      "|AVTXP|348400|\n",
      "|KSCCD|278720|\n",
      "|NGMPP|348400|\n",
      "|ESCCP|348400|\n",
      "|LGTCD|278720|\n",
      "|ESTXV|278720|\n",
      "|P1ICD|278720|\n",
      "|ELEXP|348400|\n",
      "|MGACB|348400|\n",
      "|NGICP|348400|\n",
      "|TNACB|348400|\n",
      "|WDRCP|348400|\n",
      "|SOHCB|348400|\n",
      "|TNTXB|348400|\n",
      "|HYCCB|348400|\n",
      "|PAACD|278720|\n",
      "|CLOCB|348400|\n",
      "|CLTXB|348400|\n",
      "|ESRCB|348400|\n",
      "|JFTXB|348400|\n",
      "+-----+------+\n",
      "only showing top 20 rows\n",
      "\n",
      "+---------+-------+\n",
      "|StateCode|  count|\n",
      "+---------+-------+\n",
      "|       AZ|3542424|\n",
      "|       SC|3542424|\n",
      "|       LA|3542424|\n",
      "|       MN|3542424|\n",
      "|       NJ|3542424|\n",
      "|       DC|3542424|\n",
      "|       OR|3542424|\n",
      "|       VA|3542424|\n",
      "|       RI|3542424|\n",
      "|       WY|3542424|\n",
      "|       KY|3542424|\n",
      "|       NH|3542424|\n",
      "|       MI|3542424|\n",
      "|       NV|3542424|\n",
      "|       WI|3542424|\n",
      "|       ID|3542424|\n",
      "|       CA|3542424|\n",
      "|       CT|3542424|\n",
      "|       NE|3542424|\n",
      "|       MT|3542424|\n",
      "+---------+-------+\n",
      "only showing top 20 rows\n",
      "\n",
      "+----+-------+\n",
      "|Year|  count|\n",
      "+----+-------+\n",
      "|1990|4065560|\n",
      "|1975|4016784|\n",
      "|1977|4030720|\n",
      "|2003|4065560|\n",
      "|2007|4065560|\n",
      "|1974|4016784|\n",
      "|2006|4065560|\n",
      "|1978|4030720|\n",
      "|1961|2218370|\n",
      "|1988|4065560|\n",
      "|1997|4065560|\n",
      "|1994|4065560|\n",
      "|1968|2218370|\n",
      "|1973|4016784|\n",
      "|1979|4030720|\n",
      "|1971|4016784|\n",
      "|1966|2218370|\n",
      "|2004|4065560|\n",
      "|1991|4065560|\n",
      "|1967|2218370|\n",
      "+----+-------+\n",
      "only showing top 20 rows\n",
      "\n",
      "+-------------+-----+\n",
      "|         Data|count|\n",
      "+-------------+-----+\n",
      "| 210227.03774|  134|\n",
      "| 173993.85025|  134|\n",
      "|1834813.41911|  134|\n",
      "| 706786.39613|  134|\n",
      "| 585525.20705|  134|\n",
      "| 508922.46659|  134|\n",
      "|  95852.17296|  134|\n",
      "|  94781.06517|  134|\n",
      "| 175973.48371|  134|\n",
      "| 219311.90072|  134|\n",
      "| 250483.19866|  134|\n",
      "| 703161.57762|  134|\n",
      "|2947999.93058|  134|\n",
      "| 355984.74295|  134|\n",
      "|1039993.61725|  134|\n",
      "|1738231.60363|  134|\n",
      "| 875301.48703|  134|\n",
      "|1020392.29449|  134|\n",
      "|1099524.97277|  134|\n",
      "| 274001.73484|  134|\n",
      "+-------------+-----+\n",
      "only showing top 20 rows\n",
      "\n"
     ]
    }
   ],
   "source": [
    "for c in df.columns:\n",
    "    df.groupBy(c).count().show()"
   ]
  },
  {
   "cell_type": "code",
   "execution_count": 12,
   "metadata": {},
   "outputs": [
    {
     "name": "stdout",
     "output_type": "stream",
     "text": [
      "elapsed 184.1848566532135 seconds\n"
     ]
    }
   ],
   "source": [
    "end = time.time()\n",
    "print(f'elapsed {end - start} seconds')"
   ]
  }
 ],
 "metadata": {
  "kernelspec": {
   "display_name": "PySpark (Spark 2.4)",
   "language": "python",
   "name": "pyspark"
  },
  "language_info": {
   "codemirror_mode": {
    "name": "ipython",
    "version": 3
   },
   "file_extension": ".py",
   "mimetype": "text/x-python",
   "name": "python",
   "nbconvert_exporter": "python",
   "pygments_lexer": "ipython3",
   "version": "3.7.2"
  }
 },
 "nbformat": 4,
 "nbformat_minor": 2
}
